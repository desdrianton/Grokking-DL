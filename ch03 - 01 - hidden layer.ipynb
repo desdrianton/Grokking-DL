{
 "cells": [
  {
   "cell_type": "code",
   "execution_count": 6,
   "metadata": {},
   "outputs": [
    {
     "name": "stdout",
     "output_type": "stream",
     "text": [
      "Input[0]\n",
      "[8.5  0.65 1.2 ]\n",
      "\n",
      "Input to hidden weight\n",
      "[[ 0.1  0.2 -0.1]\n",
      " [-0.1  0.1  0.9]\n",
      " [ 0.1  0.4  0.1]]\n",
      "\n",
      "Hidden result\n",
      "[ 0.905  2.245 -0.145]\n",
      "\n",
      "Hidden to output weight\n",
      "[[ 0.3  1.1 -0.3]\n",
      " [ 0.1  0.2  0. ]\n",
      " [ 0.   1.3  0.1]]\n",
      "\n",
      "Output\n",
      "[ 0.496  1.256 -0.286]\n",
      "\n"
     ]
    }
   ],
   "source": [
    "import numpy as np\n",
    "\n",
    "input = np.array([\n",
    "    [8.5, 9.5, 9.9, 9.0],   # toes\n",
    "    [0.65, 0.8, 0.8, 0.9],  # wlrec\n",
    "    [1.2, 1.3, 0.5, 1.0]    # nfans\n",
    "])\n",
    "\n",
    "input_hidden_weight = np.array([\n",
    "    [0.1, 0.2, -0.1],\n",
    "    [-0.1, 0.1, 0.9],\n",
    "    [0.1, 0.4, 0.1]\n",
    "])\n",
    "\n",
    "hidden_to_output_weight = np.array([\n",
    "    [0.3, 1.1, -0.3],\n",
    "    [0.1, 0.2, 0.0],\n",
    "    [0.0, 1.3, 0.1]\n",
    "])\n",
    "\n",
    "input_0 = np.array([input[0][0], input[1][0], input[2][0]])\n",
    "\n",
    "hidden_result = input_0.dot(input_hidden_weight)\n",
    "output = hidden_result.dot(hidden_to_output_weight)\n",
    "\n",
    "print(f\"Input[0]\\n{input_0}\\n\")\n",
    "print(f\"Input to hidden weight\\n{input_hidden_weight}\\n\")\n",
    "print(f\"Hidden result\\n{hidden_result}\\n\")\n",
    "print(f\"Hidden to output weight\\n{hidden_to_output_weight}\\n\")\n",
    "print(f\"Output\\n{output}\\n\")"
   ]
  }
 ],
 "metadata": {
  "kernelspec": {
   "display_name": "Python 3",
   "language": "python",
   "name": "python3"
  },
  "language_info": {
   "codemirror_mode": {
    "name": "ipython",
    "version": 3
   },
   "file_extension": ".py",
   "mimetype": "text/x-python",
   "name": "python",
   "nbconvert_exporter": "python",
   "pygments_lexer": "ipython3",
   "version": "3.12.4"
  }
 },
 "nbformat": 4,
 "nbformat_minor": 2
}
